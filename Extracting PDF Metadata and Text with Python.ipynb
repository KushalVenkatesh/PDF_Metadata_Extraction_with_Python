{
 "cells": [
  {
   "cell_type": "code",
   "execution_count": 1,
   "metadata": {},
   "outputs": [
    {
     "name": "stdout",
     "output_type": "stream",
     "text": [
      "Collecting pypdf2\n",
      "  Downloading PyPDF2-1.26.0.tar.gz (77 kB)\n",
      "Building wheels for collected packages: pypdf2\n",
      "  Building wheel for pypdf2 (setup.py): started\n",
      "  Building wheel for pypdf2 (setup.py): finished with status 'done'\n",
      "  Created wheel for pypdf2: filename=PyPDF2-1.26.0-py3-none-any.whl size=60067 sha256=56dbabf9915f92ad1ab465e1b1898d31b26e694a03ce0486415579dc3a44a0dd\n",
      "  Stored in directory: c:\\users\\kusha\\appdata\\local\\pip\\cache\\wheels\\97\\28\\4b\\142b7d8c98eeeb73534b9c5b6558ddd3bab3c2c8192aa7ab30\n",
      "Successfully built pypdf2\n",
      "Installing collected packages: pypdf2\n",
      "Successfully installed pypdf2-1.26.0\n"
     ]
    },
    {
     "name": "stderr",
     "output_type": "stream",
     "text": [
      "WARNING: You are using pip version 20.0.2; however, version 21.2.4 is available.\n",
      "You should consider upgrading via the 'c:\\users\\public\\downloads\\python3\\python.exe -m pip install --upgrade pip' command.\n"
     ]
    }
   ],
   "source": [
    "!pip install pypdf2"
   ]
  },
  {
   "cell_type": "code",
   "execution_count": 2,
   "metadata": {},
   "outputs": [
    {
     "name": "stdout",
     "output_type": "stream",
     "text": [
      "Collecting pip\n",
      "  Downloading pip-21.2.4-py3-none-any.whl (1.6 MB)\n",
      "Installing collected packages: pip\n",
      "  Attempting uninstall: pip\n",
      "    Found existing installation: pip 20.0.2\n",
      "    Uninstalling pip-20.0.2:\n",
      "      Successfully uninstalled pip-20.0.2\n",
      "Successfully installed pip-21.2.4\n"
     ]
    }
   ],
   "source": [
    "!c:\\users\\public\\downloads\\python3\\python.exe -m pip install --upgrade pip\n",
    "    "
   ]
  },
  {
   "cell_type": "code",
   "execution_count": 4,
   "metadata": {},
   "outputs": [
    {
     "name": "stdout",
     "output_type": "stream",
     "text": [
      "{'/Producer': 'PyPDF2', '/ModDate': \"D:20210830232351-05'00'\"}\n"
     ]
    }
   ],
   "source": [
    "# get_doc_info.py\n",
    "\n",
    "from PyPDF2 import PdfFileReader\n",
    "\n",
    "\n",
    "def get_info(path):\n",
    "    with open(path, 'rb') as f:\n",
    "        pdf = PdfFileReader(f)\n",
    "        info = pdf.getDocumentInfo()\n",
    "        number_of_pages = pdf.getNumPages()\n",
    "    \n",
    "    print(info)\n",
    "\n",
    "    author = info.author\n",
    "    creator = info.creator\n",
    "    producer = info.producer\n",
    "    subject = info.subject\n",
    "    title = info.title\n",
    "\n",
    "if __name__ == '__main__':\n",
    "    path = 'C:\\\\Users\\\\kusha\\\\OneDrive\\\\Documents\\\\pdf_metadata_extraction_with_python.pdf'\n",
    "    get_info(path)"
   ]
  },
  {
   "cell_type": "code",
   "execution_count": 5,
   "metadata": {},
   "outputs": [
    {
     "name": "stdout",
     "output_type": "stream",
     "text": [
      "{'/Contents': IndirectObject(75, 0), '/CropBox': [0, 0, 612, 792], '/MediaBox': [0, 0, 612, 792], '/Parent': IndirectObject(1, 0), '/Resources': {'/ExtGState': {'/GS0': IndirectObject(76, 0)}, '/Font': {'/TT0': IndirectObject(77, 0), '/TT1': IndirectObject(80, 0), '/TT2': IndirectObject(83, 0), '/TT3': IndirectObject(86, 0), '/F1': IndirectObject(89, 0), '/F2+0': IndirectObject(90, 0)}, '/XObject': {'/Fm0': IndirectObject(94, 0)}, '/ColorSpace': {'/CS0': IndirectObject(120, 0)}, '/ProcSet': ['/PDF', '/ImageC', '/ImageB', '/ImageI', '/Text']}, '/Rotate': 0, '/Type': '/Page', '/Annots': []}\n",
      "Page type: <class 'PyPDF2.pdf.PageObject'>\n",
      "PDF Metadata Extraction with Python GIAC (GPYC) Gold Certification Author: Christopher A. Plaisance, nxl4@protonmail.com Advisor: Rob VandenBrink Accepted: 5 February 2019 Abstract This paper explores techniques for programmatically extracting metadata \n",
      "from PDF files \n",
      "using Python. It begins by detailing the internal structure of\n",
      " PDF documents, focusing on \n",
      "the internal system of indirect references and objects within the PDF binar\n",
      "y, the\n",
      " document information di\n",
      "ctionary metadata type, and \n",
      "the XMP metadata t\n",
      "ype contained in the fileÕs \n",
      "metadata streams. Next, the paper explores the most common means of accessing PDF \n",
      "metadata with Python, the high\n",
      "-level PyPDF and PyPDF2 libraries. This examination \n",
      "discovers deficiencies in the methodologies used by these module\n",
      "s, making them \n",
      "inappropriate for use in digital forensics investigations. An alternative low\n",
      "-level technique \n",
      "of carving the PDF binary directly with Python, using the re module from the standard \n",
      "library is described, and found to accurately and completely \n",
      "extract all of the pertinent \n",
      "metadata from the PDF file with a degree of completeness suitable for digital forensics use \n",
      "cases. These low\n",
      "-level techniques are built into a stand\n",
      "-alone open source Linux utility, \n",
      "pdf-metadata, which is discussed in the paperÕs final section. @ 2021 SANS Institute\n",
      "Author Retains Full Rights\n",
      "\n"
     ]
    }
   ],
   "source": [
    "# extracting_text.py\n",
    "\n",
    "from PyPDF2 import PdfFileReader\n",
    "\n",
    "\n",
    "def text_extractor(path):\n",
    "    with open(path, 'rb') as f:\n",
    "        pdf = PdfFileReader(f)\n",
    "\n",
    "        # get the first page\n",
    "        page = pdf.getPage(1)\n",
    "        print(page)\n",
    "        print('Page type: {}'.format(str(type(page))))\n",
    "\n",
    "        text = page.extractText()\n",
    "        print(text)\n",
    "\n",
    "\n",
    "if __name__ == '__main__':\n",
    "    path = 'C:\\\\Users\\\\kusha\\\\OneDrive\\\\Documents\\\\pdf_metadata_extraction_with_python.pdf'\n",
    "    text_extractor(path)"
   ]
  },
  {
   "cell_type": "code",
   "execution_count": null,
   "metadata": {},
   "outputs": [],
   "source": []
  }
 ],
 "metadata": {
  "kernelspec": {
   "display_name": "Python 3",
   "language": "python",
   "name": "python3"
  },
  "language_info": {
   "codemirror_mode": {
    "name": "ipython",
    "version": 3
   },
   "file_extension": ".py",
   "mimetype": "text/x-python",
   "name": "python",
   "nbconvert_exporter": "python",
   "pygments_lexer": "ipython3",
   "version": "3.6.5"
  }
 },
 "nbformat": 4,
 "nbformat_minor": 2
}
